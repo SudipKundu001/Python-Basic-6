{
 "cells": [
  {
   "cell_type": "markdown",
   "id": "2fa6512a",
   "metadata": {},
   "source": [
    ">__1. What are escape characters, and how do you use them?__"
   ]
  },
  {
   "cell_type": "markdown",
   "id": "c7baf33f",
   "metadata": {},
   "source": [
    "Ans. To insert characters that are illegal in a string, use an escape character.\n",
    "\n",
    "An escape character is a backslash \\ followed by the character you want to insert.<br>\n",
    "See examples below."
   ]
  },
  {
   "cell_type": "code",
   "execution_count": 11,
   "id": "a0d2b733",
   "metadata": {},
   "outputs": [
    {
     "name": "stdout",
     "output_type": "stream",
     "text": [
      "It's alright.\n"
     ]
    }
   ],
   "source": [
    "# \\ used for single quote when the whole string is in single quote\n",
    "txt = 'It\\'s alright.'\n",
    "print(txt)"
   ]
  },
  {
   "cell_type": "code",
   "execution_count": 12,
   "id": "e6fd25b1",
   "metadata": {},
   "outputs": [
    {
     "name": "stdout",
     "output_type": "stream",
     "text": [
      "This will insert one \\ (backslash).\n"
     ]
    }
   ],
   "source": [
    "# \\\\ used for backslash\n",
    "txt = \"This will insert one \\\\ (backslash).\"\n",
    "print(txt) "
   ]
  },
  {
   "cell_type": "code",
   "execution_count": 4,
   "id": "a5e3b10f",
   "metadata": {},
   "outputs": [
    {
     "name": "stdout",
     "output_type": "stream",
     "text": [
      "Hello\n",
      "World!\n"
     ]
    }
   ],
   "source": [
    "# \\n used for new line\n",
    "txt = \"Hello\\nWorld!\"\n",
    "print(txt) \n"
   ]
  },
  {
   "cell_type": "code",
   "execution_count": 6,
   "id": "ddd95092",
   "metadata": {},
   "outputs": [
    {
     "name": "stdout",
     "output_type": "stream",
     "text": [
      "sudip!\n"
     ]
    }
   ],
   "source": [
    "# \\r used for carriage return\n",
    "txt = \"Hello\\rWorld!\"\n",
    "print(txt) "
   ]
  },
  {
   "cell_type": "code",
   "execution_count": 7,
   "id": "959b48a7",
   "metadata": {},
   "outputs": [
    {
     "name": "stdout",
     "output_type": "stream",
     "text": [
      "Hello\tWorld!\n"
     ]
    }
   ],
   "source": [
    "# \\t used for tab\n",
    "txt = \"Hello\\tWorld!\"\n",
    "print(txt) "
   ]
  },
  {
   "cell_type": "code",
   "execution_count": 8,
   "id": "d9f410e2",
   "metadata": {},
   "outputs": [
    {
     "name": "stdout",
     "output_type": "stream",
     "text": [
      "Hello \bWorld!\n"
     ]
    }
   ],
   "source": [
    "# \\b used for backspace\n",
    "txt = \"Hello \\bWorld!\"\n",
    "print(txt) "
   ]
  },
  {
   "cell_type": "code",
   "execution_count": 9,
   "id": "e1d36260",
   "metadata": {},
   "outputs": [
    {
     "name": "stdout",
     "output_type": "stream",
     "text": [
      "Hello\n"
     ]
    }
   ],
   "source": [
    "# \\ooo Used for octal value\n",
    "txt = \"\\110\\145\\154\\154\\157\"\n",
    "print(txt)"
   ]
  },
  {
   "cell_type": "code",
   "execution_count": 10,
   "id": "069b1e37",
   "metadata": {},
   "outputs": [
    {
     "name": "stdout",
     "output_type": "stream",
     "text": [
      "Hello\n"
     ]
    }
   ],
   "source": [
    "# \\xhh used for Hex value \n",
    "txt = \"\\x48\\x65\\x6c\\x6c\\x6f\"\n",
    "print(txt) "
   ]
  },
  {
   "cell_type": "markdown",
   "id": "830cbdeb",
   "metadata": {},
   "source": [
    ">__2. What do the escape characters n and t stand for?__"
   ]
  },
  {
   "cell_type": "markdown",
   "id": "ba068444",
   "metadata": {},
   "source": [
    "Ans. n stands for new line and t stands for tab."
   ]
  },
  {
   "cell_type": "markdown",
   "id": "78bb3b0f",
   "metadata": {},
   "source": [
    ">__3. What is the way to include backslash characters in a string?__"
   ]
  },
  {
   "cell_type": "markdown",
   "id": "5e55e18e",
   "metadata": {},
   "source": [
    "Ans. You need to use \\\\ . See the example above."
   ]
  },
  {
   "cell_type": "markdown",
   "id": "1dabac46",
   "metadata": {},
   "source": [
    ">__4. The string \"Howl's Moving Castle\" is a correct value. Why isn't the single quote character in the word Howl's not escaped a problem?__"
   ]
  },
  {
   "cell_type": "markdown",
   "id": "e317e100",
   "metadata": {},
   "source": [
    "Ans.  The single quote in Howl's is fine because you've used double quotes to mark the beginning and end of the string."
   ]
  },
  {
   "cell_type": "markdown",
   "id": "c62662d5",
   "metadata": {},
   "source": [
    ">__5. How do you write a string of newlines if you don't want to use the n character?__"
   ]
  },
  {
   "cell_type": "markdown",
   "id": "75d99a19",
   "metadata": {},
   "source": [
    "Ans. You need to use the print() function two times."
   ]
  },
  {
   "cell_type": "markdown",
   "id": "a1ffc1bd",
   "metadata": {},
   "source": [
    ">__6. What are the values of the given expressions?__<br>\n",
    "* 'Hello, world!'[1]\n",
    "* 'Hello, world!'[0:5]\n",
    "* 'Hello, world!'[:5]\n",
    "* 'Hello, world!'[3:]\n"
   ]
  },
  {
   "cell_type": "code",
   "execution_count": 19,
   "id": "8511b89c",
   "metadata": {},
   "outputs": [
    {
     "data": {
      "text/plain": [
       "'e'"
      ]
     },
     "execution_count": 19,
     "metadata": {},
     "output_type": "execute_result"
    }
   ],
   "source": [
    "'Hello, world!'[1]"
   ]
  },
  {
   "cell_type": "code",
   "execution_count": 20,
   "id": "8f41ef38",
   "metadata": {},
   "outputs": [
    {
     "data": {
      "text/plain": [
       "'Hello'"
      ]
     },
     "execution_count": 20,
     "metadata": {},
     "output_type": "execute_result"
    }
   ],
   "source": [
    "'Hello, world!'[0:5]"
   ]
  },
  {
   "cell_type": "code",
   "execution_count": 21,
   "id": "816c3b0a",
   "metadata": {},
   "outputs": [
    {
     "data": {
      "text/plain": [
       "'Hello'"
      ]
     },
     "execution_count": 21,
     "metadata": {},
     "output_type": "execute_result"
    }
   ],
   "source": [
    "'Hello, world!'[:5]"
   ]
  },
  {
   "cell_type": "code",
   "execution_count": 22,
   "id": "fd58336c",
   "metadata": {},
   "outputs": [
    {
     "data": {
      "text/plain": [
       "'lo, world!'"
      ]
     },
     "execution_count": 22,
     "metadata": {},
     "output_type": "execute_result"
    }
   ],
   "source": [
    "'Hello, world!'[3:]"
   ]
  },
  {
   "cell_type": "markdown",
   "id": "10c7235c",
   "metadata": {},
   "source": [
    ">__7. What are the values of the following expressions?__\n",
    "* 'Hello'.upper()\n",
    "* 'Hello'.upper().isupper()\n",
    "* 'Hello'.upper().lower()\n"
   ]
  },
  {
   "cell_type": "code",
   "execution_count": 23,
   "id": "46628da6",
   "metadata": {},
   "outputs": [
    {
     "data": {
      "text/plain": [
       "'HELLO'"
      ]
     },
     "execution_count": 23,
     "metadata": {},
     "output_type": "execute_result"
    }
   ],
   "source": [
    "'Hello'.upper()"
   ]
  },
  {
   "cell_type": "code",
   "execution_count": 24,
   "id": "19b468ad",
   "metadata": {},
   "outputs": [
    {
     "data": {
      "text/plain": [
       "True"
      ]
     },
     "execution_count": 24,
     "metadata": {},
     "output_type": "execute_result"
    }
   ],
   "source": [
    "'Hello'.upper().isupper()"
   ]
  },
  {
   "cell_type": "code",
   "execution_count": 25,
   "id": "f0e339d9",
   "metadata": {},
   "outputs": [
    {
     "data": {
      "text/plain": [
       "'hello'"
      ]
     },
     "execution_count": 25,
     "metadata": {},
     "output_type": "execute_result"
    }
   ],
   "source": [
    "'Hello'.upper().lower()"
   ]
  },
  {
   "cell_type": "markdown",
   "id": "dd736e58",
   "metadata": {},
   "source": [
    ">__8. What are the values of the following expressions?__\n",
    "* 'Remember, remember, the fifth of July.'.split()\n",
    "* '-'.join('There can only one.'.split())\n"
   ]
  },
  {
   "cell_type": "code",
   "execution_count": 26,
   "id": "ab72a069",
   "metadata": {},
   "outputs": [
    {
     "data": {
      "text/plain": [
       "['Remember,', 'remember,', 'the', 'fifth', 'of', 'July.']"
      ]
     },
     "execution_count": 26,
     "metadata": {},
     "output_type": "execute_result"
    }
   ],
   "source": [
    "'Remember, remember, the fifth of July.'.split()"
   ]
  },
  {
   "cell_type": "code",
   "execution_count": 27,
   "id": "69a14126",
   "metadata": {},
   "outputs": [
    {
     "data": {
      "text/plain": [
       "'There-can-only-one.'"
      ]
     },
     "execution_count": 27,
     "metadata": {},
     "output_type": "execute_result"
    }
   ],
   "source": [
    "'-'.join('There can only one.'.split())"
   ]
  },
  {
   "cell_type": "markdown",
   "id": "d2752ade",
   "metadata": {},
   "source": [
    ">__9. What are the methods for right-justifying, left-justifying, and centering a string?__"
   ]
  },
  {
   "cell_type": "code",
   "execution_count": 38,
   "id": "f28c83e2",
   "metadata": {},
   "outputs": [
    {
     "name": "stdout",
     "output_type": "stream",
     "text": [
      "                       iNeuron\n",
      "iNeuron                       \n",
      "           iNeuron            \n"
     ]
    }
   ],
   "source": [
    "string = 'iNeuron'\n",
    "width = 30\n",
    "\n",
    "print(string.rjust(width)) # print right justified string\n",
    "print(string.ljust(width)) # print left justified string\n",
    "print(string.center(width)) # print center justified string"
   ]
  },
  {
   "cell_type": "markdown",
   "id": "5e762fae",
   "metadata": {},
   "source": [
    ">__10. What is the best way to remove whitespace characters from the start or end?__"
   ]
  },
  {
   "cell_type": "code",
   "execution_count": 45,
   "id": "dc28dc32",
   "metadata": {},
   "outputs": [
    {
     "name": "stdout",
     "output_type": "stream",
     "text": [
      "  iNeuron\n",
      "iNeuron  \n",
      "iNeuron\n"
     ]
    }
   ],
   "source": [
    "a= '  iNeuron  '\n",
    "print(a.rstrip())\n",
    "print(a.lstrip())\n",
    "print(a.strip())"
   ]
  }
 ],
 "metadata": {
  "kernelspec": {
   "display_name": "Python 3",
   "language": "python",
   "name": "python3"
  },
  "language_info": {
   "codemirror_mode": {
    "name": "ipython",
    "version": 3
   },
   "file_extension": ".py",
   "mimetype": "text/x-python",
   "name": "python",
   "nbconvert_exporter": "python",
   "pygments_lexer": "ipython3",
   "version": "3.8.8"
  }
 },
 "nbformat": 4,
 "nbformat_minor": 5
}
